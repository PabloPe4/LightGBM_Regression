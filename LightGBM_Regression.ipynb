{
  "nbformat": 4,
  "nbformat_minor": 0,
  "metadata": {
    "colab": {
      "name": "LightGBM_Regression.ipynb",
      "provenance": [],
      "authorship_tag": "ABX9TyMrTfNBQlIA1v8MnVxF4DB0",
      "include_colab_link": true
    },
    "kernelspec": {
      "name": "python3",
      "display_name": "Python 3"
    },
    "language_info": {
      "name": "python"
    }
  },
  "cells": [
    {
      "cell_type": "markdown",
      "metadata": {
        "id": "view-in-github",
        "colab_type": "text"
      },
      "source": [
        "<a href=\"https://colab.research.google.com/github/PabloPe4/LightGBM_Regression/blob/main/LightGBM_Regression.ipynb\" target=\"_parent\"><img src=\"https://colab.research.google.com/assets/colab-badge.svg\" alt=\"Open In Colab\"/></a>"
      ]
    },
    {
      "cell_type": "markdown",
      "metadata": {
        "id": "ExskKLmP-Muq"
      },
      "source": [
        "## Install Shap Values"
      ]
    },
    {
      "cell_type": "code",
      "metadata": {
        "colab": {
          "base_uri": "https://localhost:8080/"
        },
        "id": "-1egCVYC3p5F",
        "outputId": "f4e3d74f-640d-42f9-dbfa-f649875888fe"
      },
      "source": [
        "!pip install shap #Install shap values for explainability"
      ],
      "execution_count": 43,
      "outputs": [
        {
          "output_type": "stream",
          "text": [
            "Requirement already satisfied: shap in /usr/local/lib/python3.7/dist-packages (0.39.0)\n",
            "Requirement already satisfied: pandas in /usr/local/lib/python3.7/dist-packages (from shap) (1.1.5)\n",
            "Requirement already satisfied: tqdm>4.25.0 in /usr/local/lib/python3.7/dist-packages (from shap) (4.41.1)\n",
            "Requirement already satisfied: numpy in /usr/local/lib/python3.7/dist-packages (from shap) (1.19.5)\n",
            "Requirement already satisfied: scikit-learn in /usr/local/lib/python3.7/dist-packages (from shap) (0.22.2.post1)\n",
            "Requirement already satisfied: cloudpickle in /usr/local/lib/python3.7/dist-packages (from shap) (1.3.0)\n",
            "Requirement already satisfied: slicer==0.0.7 in /usr/local/lib/python3.7/dist-packages (from shap) (0.0.7)\n",
            "Requirement already satisfied: scipy in /usr/local/lib/python3.7/dist-packages (from shap) (1.4.1)\n",
            "Requirement already satisfied: numba in /usr/local/lib/python3.7/dist-packages (from shap) (0.51.2)\n",
            "Requirement already satisfied: pytz>=2017.2 in /usr/local/lib/python3.7/dist-packages (from pandas->shap) (2018.9)\n",
            "Requirement already satisfied: python-dateutil>=2.7.3 in /usr/local/lib/python3.7/dist-packages (from pandas->shap) (2.8.1)\n",
            "Requirement already satisfied: joblib>=0.11 in /usr/local/lib/python3.7/dist-packages (from scikit-learn->shap) (1.0.1)\n",
            "Requirement already satisfied: llvmlite<0.35,>=0.34.0.dev0 in /usr/local/lib/python3.7/dist-packages (from numba->shap) (0.34.0)\n",
            "Requirement already satisfied: setuptools in /usr/local/lib/python3.7/dist-packages (from numba->shap) (56.0.0)\n",
            "Requirement already satisfied: six>=1.5 in /usr/local/lib/python3.7/dist-packages (from python-dateutil>=2.7.3->pandas->shap) (1.15.0)\n"
          ],
          "name": "stdout"
        }
      ]
    },
    {
      "cell_type": "markdown",
      "metadata": {
        "id": "7cT3G9yn9uPB"
      },
      "source": [
        "## Import Libraries"
      ]
    },
    {
      "cell_type": "code",
      "metadata": {
        "id": "OPhvMSzS1Pqu"
      },
      "source": [
        "import pandas as pd\n",
        "from pandas import read_csv\n",
        "import numpy as np\n",
        "from numpy import asarray\n",
        "from sklearn.model_selection import train_test_split\n",
        "from sklearn.metrics import mean_squared_error\n",
        "from sklearn.metrics import r2_score\n",
        "import lightgbm as lgb\n",
        "from matplotlib import pyplot\n",
        "import shap"
      ],
      "execution_count": 44,
      "outputs": []
    },
    {
      "cell_type": "markdown",
      "metadata": {
        "id": "YWAB__gR90Bm"
      },
      "source": [
        "## Data Processing"
      ]
    },
    {
      "cell_type": "code",
      "metadata": {
        "colab": {
          "base_uri": "https://localhost:8080/",
          "height": 231
        },
        "id": "WBJwefu61VnO",
        "outputId": "d3b6ffbf-bc7e-4614-c9e7-328c0f1939dd"
      },
      "source": [
        "# Load the dataset\n",
        "path= '/content/Fish.csv'\n",
        "delimiter = ','\n",
        "df = read_csv(path, header='infer', index_col=0, delimiter=delimiter)\n",
        "df.head()"
      ],
      "execution_count": 45,
      "outputs": [
        {
          "output_type": "execute_result",
          "data": {
            "text/html": [
              "<div>\n",
              "<style scoped>\n",
              "    .dataframe tbody tr th:only-of-type {\n",
              "        vertical-align: middle;\n",
              "    }\n",
              "\n",
              "    .dataframe tbody tr th {\n",
              "        vertical-align: top;\n",
              "    }\n",
              "\n",
              "    .dataframe thead th {\n",
              "        text-align: right;\n",
              "    }\n",
              "</style>\n",
              "<table border=\"1\" class=\"dataframe\">\n",
              "  <thead>\n",
              "    <tr style=\"text-align: right;\">\n",
              "      <th></th>\n",
              "      <th>Weight</th>\n",
              "      <th>Length1</th>\n",
              "      <th>Length2</th>\n",
              "      <th>Length3</th>\n",
              "      <th>Height</th>\n",
              "      <th>Width</th>\n",
              "    </tr>\n",
              "    <tr>\n",
              "      <th>Species</th>\n",
              "      <th></th>\n",
              "      <th></th>\n",
              "      <th></th>\n",
              "      <th></th>\n",
              "      <th></th>\n",
              "      <th></th>\n",
              "    </tr>\n",
              "  </thead>\n",
              "  <tbody>\n",
              "    <tr>\n",
              "      <th>Bream</th>\n",
              "      <td>242.0</td>\n",
              "      <td>23.2</td>\n",
              "      <td>25.4</td>\n",
              "      <td>30.0</td>\n",
              "      <td>11.5200</td>\n",
              "      <td>4.0200</td>\n",
              "    </tr>\n",
              "    <tr>\n",
              "      <th>Bream</th>\n",
              "      <td>290.0</td>\n",
              "      <td>24.0</td>\n",
              "      <td>26.3</td>\n",
              "      <td>31.2</td>\n",
              "      <td>12.4800</td>\n",
              "      <td>4.3056</td>\n",
              "    </tr>\n",
              "    <tr>\n",
              "      <th>Bream</th>\n",
              "      <td>340.0</td>\n",
              "      <td>23.9</td>\n",
              "      <td>26.5</td>\n",
              "      <td>31.1</td>\n",
              "      <td>12.3778</td>\n",
              "      <td>4.6961</td>\n",
              "    </tr>\n",
              "    <tr>\n",
              "      <th>Bream</th>\n",
              "      <td>363.0</td>\n",
              "      <td>26.3</td>\n",
              "      <td>29.0</td>\n",
              "      <td>33.5</td>\n",
              "      <td>12.7300</td>\n",
              "      <td>4.4555</td>\n",
              "    </tr>\n",
              "    <tr>\n",
              "      <th>Bream</th>\n",
              "      <td>430.0</td>\n",
              "      <td>26.5</td>\n",
              "      <td>29.0</td>\n",
              "      <td>34.0</td>\n",
              "      <td>12.4440</td>\n",
              "      <td>5.1340</td>\n",
              "    </tr>\n",
              "  </tbody>\n",
              "</table>\n",
              "</div>"
            ],
            "text/plain": [
              "         Weight  Length1  Length2  Length3   Height   Width\n",
              "Species                                                    \n",
              "Bream     242.0     23.2     25.4     30.0  11.5200  4.0200\n",
              "Bream     290.0     24.0     26.3     31.2  12.4800  4.3056\n",
              "Bream     340.0     23.9     26.5     31.1  12.3778  4.6961\n",
              "Bream     363.0     26.3     29.0     33.5  12.7300  4.4555\n",
              "Bream     430.0     26.5     29.0     34.0  12.4440  5.1340"
            ]
          },
          "metadata": {
            "tags": []
          },
          "execution_count": 45
        }
      ]
    },
    {
      "cell_type": "code",
      "metadata": {
        "id": "TYL-SwaW61s4"
      },
      "source": [
        "data = df.values #Transform the dataframe to an array"
      ],
      "execution_count": 46,
      "outputs": []
    },
    {
      "cell_type": "code",
      "metadata": {
        "colab": {
          "base_uri": "https://localhost:8080/"
        },
        "id": "ZfJ9nB1X1j9I",
        "outputId": "debb08ca-9a2b-4f29-e6bb-3d9edcfa1f35"
      },
      "source": [
        "#Prepare the data\n",
        "X, y = data[:, :-1], data[:, -1]\n",
        "print(X.shape, y.shape)\n",
        "\n",
        "#Split the data\n",
        "X_train, X_test, y_train, y_test = train_test_split(X, y, test_size=0.2, shuffle=True, random_state=42)\n",
        "print(X_train.shape, X_test.shape, y_train.shape, y_test.shape)"
      ],
      "execution_count": 47,
      "outputs": [
        {
          "output_type": "stream",
          "text": [
            "(159, 5) (159,)\n",
            "(127, 5) (32, 5) (127,) (32,)\n"
          ],
          "name": "stdout"
        }
      ]
    },
    {
      "cell_type": "markdown",
      "metadata": {
        "id": "tpi0_DO49lJH"
      },
      "source": [
        "## LightGBM Model"
      ]
    },
    {
      "cell_type": "code",
      "metadata": {
        "colab": {
          "base_uri": "https://localhost:8080/",
          "height": 708
        },
        "id": "H_XiVdgx0553",
        "outputId": "955c4f3c-7645-4bf6-ceea-1b4b7eda9c42"
      },
      "source": [
        "# Create dataset for lightgbm\n",
        "lgb_train = lgb.Dataset(X_train, y_train)\n",
        "lgb_eval = lgb.Dataset(X_test, y_test, reference=lgb_train)\n",
        "\n",
        "# Specify params for model optimzation\n",
        "params = {\n",
        "    'boosting_type': 'rf',\n",
        "    'objective': 'regression',\n",
        "    'metric': 'rmse',\n",
        "    'max_bin':50,\n",
        "    'min_data_in_leaf':5,\n",
        "    'num_leaves': 31,\n",
        "    'max_depth': 8,\n",
        "    'lambda': 0.1,\n",
        "    'path_smooth': 1.325,\n",
        "    'learning_rate': 0.09,\n",
        "    'feature_fraction': 0.5,\n",
        "    'bagging_fraction': 0.6,\n",
        "    'bagging_freq': 2,\n",
        "    'verbose': 0\n",
        "}\n",
        "\n",
        "print('Starting training...')\n",
        "# Train\n",
        "gbm = lgb.train(params,\n",
        "                lgb_train,\n",
        "                num_boost_round=200,\n",
        "                valid_sets=lgb_eval,\n",
        "                early_stopping_rounds=5)\n",
        "\n",
        "print('Saving model...')\n",
        "# Save model to file\n",
        "gbm.save_model('model.txt')\n",
        "\n",
        "print('Starting predicting...')\n",
        "# Predict\n",
        "y_pred = gbm.predict(X_test, num_iteration=gbm.best_iteration)\n",
        "\n",
        "\n",
        "# Plot\n",
        "pyplot.plot(y_test, label='Expected')\n",
        "pyplot.plot(y_pred, label='Predicted')\n",
        "pyplot.legend()\n",
        "pyplot.show()\n",
        "\n",
        "# Evaluate\n",
        "print(\"---------------------------------------------------------------\")\n",
        "print('The rmse of prediction is:', mean_squared_error(y_test, y_pred))\n",
        "print('The R2 score of the prediction is:', r2_score(y_test, y_pred))\n",
        "print(\"---------------------------------------------------------------\")"
      ],
      "execution_count": 48,
      "outputs": [
        {
          "output_type": "stream",
          "text": [
            "Starting training...\n",
            "[1]\tvalid_0's rmse: 0.566208\n",
            "Training until validation scores don't improve for 5 rounds.\n",
            "[2]\tvalid_0's rmse: 0.579393\n",
            "[3]\tvalid_0's rmse: 0.52629\n",
            "[4]\tvalid_0's rmse: 0.563604\n",
            "[5]\tvalid_0's rmse: 0.558668\n",
            "[6]\tvalid_0's rmse: 0.574804\n",
            "[7]\tvalid_0's rmse: 0.541033\n",
            "[8]\tvalid_0's rmse: 0.518284\n",
            "[9]\tvalid_0's rmse: 0.536467\n",
            "[10]\tvalid_0's rmse: 0.525321\n",
            "[11]\tvalid_0's rmse: 0.515068\n",
            "[12]\tvalid_0's rmse: 0.506571\n",
            "[13]\tvalid_0's rmse: 0.521676\n",
            "[14]\tvalid_0's rmse: 0.533475\n",
            "[15]\tvalid_0's rmse: 0.523733\n",
            "[16]\tvalid_0's rmse: 0.514208\n",
            "[17]\tvalid_0's rmse: 0.515207\n",
            "Early stopping, best iteration is:\n",
            "[12]\tvalid_0's rmse: 0.506571\n",
            "Saving model...\n",
            "Starting predicting...\n"
          ],
          "name": "stdout"
        },
        {
          "output_type": "display_data",
          "data": {
            "image/png": "[encoded data removed]",
            "text/plain": [
              "<Figure size 432x288 with 1 Axes>"
            ]
          },
          "metadata": {
            "tags": [],
            "needs_background": "light"
          }
        },
        {
          "output_type": "stream",
          "text": [
            "---------------------------------------------------------------\n",
            "The rmse of prediction is: 0.2566143839026133\n",
            "The R2 score of the prediction is: 0.9268671832672659\n",
            "---------------------------------------------------------------\n"
          ],
          "name": "stdout"
        }
      ]
    },
    {
      "cell_type": "markdown",
      "metadata": {
        "id": "x6bmHaMG99F7"
      },
      "source": [
        "## Grid Search"
      ]
    },
    {
      "cell_type": "code",
      "metadata": {
        "id": "lvf9o55b4pwU"
      },
      "source": [
        "from sklearn.model_selection import GridSearchCV\n",
        "estimator = lgb.LGBMRegressor()"
      ],
      "execution_count": 49,
      "outputs": []
    },
    {
      "cell_type": "code",
      "metadata": {
        "id": "j5ItRzk05M6A"
      },
      "source": [
        "# All parameters must be within square brackets (as a list)\n",
        "params = {\n",
        "    'boosting_type': ['rf'],\n",
        "    'objective': ['regression'],\n",
        "    'metric': ['rmse'],\n",
        "    'max_bin':[50],\n",
        "    'min_data_in_leaf':[5,7],\n",
        "    'num_leaves': [31],\n",
        "    'max_depth': [8],\n",
        "    'lambda': [0.1],\n",
        "    'path_smooth': [1.25],\n",
        "    'learning_rate': [0.01,0.05,0.09],\n",
        "    'feature_fraction': [0.5,0.6,0.7],\n",
        "    'bagging_fraction': [0.6,0.7],\n",
        "    'bagging_freq': [2],\n",
        "    'verbose': [0]\n",
        "}"
      ],
      "execution_count": 63,
      "outputs": []
    },
    {
      "cell_type": "code",
      "metadata": {
        "colab": {
          "base_uri": "https://localhost:8080/"
        },
        "id": "GJUqpffZ4wdG",
        "outputId": "36cbb3e9-fbe2-4042-cac6-f0d915e5139d"
      },
      "source": [
        "# Grid Search to find the best parameters\n",
        "gbm = GridSearchCV(estimator, params)\n",
        "gbm.fit(X_train, y_train)"
      ],
      "execution_count": 64,
      "outputs": [
        {
          "output_type": "execute_result",
          "data": {
            "text/plain": [
              "GridSearchCV(cv=None, error_score=nan,\n",
              "             estimator=LGBMRegressor(boosting_type='gbdt', class_weight=None,\n",
              "                                     colsample_bytree=1.0,\n",
              "                                     importance_type='split', learning_rate=0.1,\n",
              "                                     max_depth=-1, min_child_samples=20,\n",
              "                                     min_child_weight=0.001, min_split_gain=0.0,\n",
              "                                     n_estimators=100, n_jobs=-1, num_leaves=31,\n",
              "                                     objective=None, random_state=None,\n",
              "                                     reg_alpha=0.0, reg_lambda=0.0, silent=T...\n",
              "             param_grid={'bagging_fraction': [0.6, 0.7], 'bagging_freq': [2],\n",
              "                         'boosting_type': ['rf'],\n",
              "                         'feature_fraction': [0.5, 0.6, 0.7], 'lambda': [0.1],\n",
              "                         'learning_rate': [0.01, 0.05, 0.09], 'max_bin': [50],\n",
              "                         'max_depth': [8], 'metric': ['rmse'],\n",
              "                         'min_data_in_leaf': [5, 7], 'num_leaves': [31],\n",
              "                         'objective': ['regression'], 'path_smooth': [1.25],\n",
              "                         'verbose': [0]},\n",
              "             pre_dispatch='2*n_jobs', refit=True, return_train_score=False,\n",
              "             scoring=None, verbose=0)"
            ]
          },
          "metadata": {
            "tags": []
          },
          "execution_count": 64
        }
      ]
    },
    {
      "cell_type": "code",
      "metadata": {
        "colab": {
          "base_uri": "https://localhost:8080/"
        },
        "id": "8_kkahT14ykB",
        "outputId": "f82bd84a-c83f-48c9-8f56-9b7bb6e2e33f"
      },
      "source": [
        "# List best params\n",
        "best_params = {}\n",
        "best_params = gbm.best_params_\n",
        "print('------------------------------------------------------------')\n",
        "print('Best parameters found by grid search are:', gbm.best_params_)"
      ],
      "execution_count": 65,
      "outputs": [
        {
          "output_type": "stream",
          "text": [
            "------------------------------------------------------------\n",
            "Best parameters found by grid search are: {'bagging_fraction': 0.7, 'bagging_freq': 2, 'boosting_type': 'rf', 'feature_fraction': 0.6, 'lambda': 0.1, 'learning_rate': 0.01, 'max_bin': 50, 'max_depth': 8, 'metric': 'rmse', 'min_data_in_leaf': 5, 'num_leaves': 31, 'objective': 'regression', 'path_smooth': 1.25, 'verbose': 0}\n"
          ],
          "name": "stdout"
        }
      ]
    },
    {
      "cell_type": "markdown",
      "metadata": {
        "id": "4CW5dmtH-BVm"
      },
      "source": [
        "## Re-train Model with Best Parameters"
      ]
    },
    {
      "cell_type": "code",
      "metadata": {
        "colab": {
          "base_uri": "https://localhost:8080/",
          "height": 675
        },
        "id": "OnnuiQkR468d",
        "outputId": "58d0d2a3-6a4f-45f6-d455-c6fef337d000"
      },
      "source": [
        "print('Starting training...')\n",
        "# Train\n",
        "gbm = lgb.train(best_params,\n",
        "                lgb_train,\n",
        "                num_boost_round=200,\n",
        "                valid_sets=lgb_eval,\n",
        "                early_stopping_rounds=5)\n",
        "\n",
        "print('Saving model...')\n",
        "# Save model to file\n",
        "gbm.save_model('model.txt')\n",
        "\n",
        "print('Starting predicting...')\n",
        "# Predict\n",
        "y_pred = gbm.predict(X_test, num_iteration=gbm.best_iteration)\n",
        "\n",
        "\n",
        "# Plot\n",
        "pyplot.plot(y_test, label='Expected')\n",
        "pyplot.plot(y_pred, label='Predicted')\n",
        "pyplot.legend()\n",
        "pyplot.show()\n",
        "\n",
        "# Evaluate\n",
        "print(\"---------------------------------------------------------------\")\n",
        "print('The rmse of prediction is:', mean_squared_error(y_test, y_pred))\n",
        "print('The R2 score of the prediction is:', r2_score(y_test, y_pred))\n",
        "print(\"---------------------------------------------------------------\")"
      ],
      "execution_count": 66,
      "outputs": [
        {
          "output_type": "stream",
          "text": [
            "Starting training...\n",
            "[1]\tvalid_0's rmse: 0.555642\n",
            "Training until validation scores don't improve for 5 rounds.\n",
            "[2]\tvalid_0's rmse: 0.558771\n",
            "[3]\tvalid_0's rmse: 0.479909\n",
            "[4]\tvalid_0's rmse: 0.462102\n",
            "[5]\tvalid_0's rmse: 0.458244\n",
            "[6]\tvalid_0's rmse: 0.465195\n",
            "[7]\tvalid_0's rmse: 0.45145\n",
            "[8]\tvalid_0's rmse: 0.455275\n",
            "[9]\tvalid_0's rmse: 0.445044\n",
            "[10]\tvalid_0's rmse: 0.440649\n",
            "[11]\tvalid_0's rmse: 0.461138\n",
            "[12]\tvalid_0's rmse: 0.450931\n",
            "[13]\tvalid_0's rmse: 0.449641\n",
            "[14]\tvalid_0's rmse: 0.454725\n",
            "[15]\tvalid_0's rmse: 0.452393\n",
            "Early stopping, best iteration is:\n",
            "[10]\tvalid_0's rmse: 0.440649\n",
            "Saving model...\n",
            "Starting predicting...\n"
          ],
          "name": "stdout"
        },
        {
          "output_type": "display_data",
          "data": {
            "image/png": "[encoded data removed]",
            "text/plain": [
              "<Figure size 432x288 with 1 Axes>"
            ]
          },
          "metadata": {
            "tags": [],
            "needs_background": "light"
          }
        },
        {
          "output_type": "stream",
          "text": [
            "---------------------------------------------------------------\n",
            "The rmse of prediction is: 0.19417114792266119\n",
            "The R2 score of the prediction is: 0.9446629500659571\n",
            "---------------------------------------------------------------\n"
          ],
          "name": "stdout"
        }
      ]
    },
    {
      "cell_type": "markdown",
      "metadata": {
        "id": "pKw5OYQN-HB8"
      },
      "source": [
        "## Shap Values"
      ]
    },
    {
      "cell_type": "code",
      "metadata": {
        "colab": {
          "base_uri": "https://localhost:8080/"
        },
        "id": "TxQdSKT73ajg",
        "outputId": "7998f40f-fb98-4366-c856-616a67b3e1db"
      },
      "source": [
        "# Strat timer and instantiate the tree explainer\n",
        "%time shap_values = shap.TreeExplainer(gbm).shap_values(X_test)"
      ],
      "execution_count": 67,
      "outputs": [
        {
          "output_type": "stream",
          "text": [
            "CPU times: user 9.82 ms, sys: 883 µs, total: 10.7 ms\n",
            "Wall time: 15.5 ms\n"
          ],
          "name": "stdout"
        }
      ]
    },
    {
      "cell_type": "code",
      "metadata": {
        "colab": {
          "base_uri": "https://localhost:8080/",
          "height": 257
        },
        "id": "BA2i_DWQ3dq3",
        "outputId": "c1d500a3-87fc-419e-b338-b4c280419fa8"
      },
      "source": [
        "# Plot shap values (i.e. feature impact)\n",
        "shap.summary_plot(shap_values, X_test)"
      ],
      "execution_count": 68,
      "outputs": [
        {
          "output_type": "display_data",
          "data": {
            "image/png": "[encoded data removed]",
            "text/plain": [
              "<Figure size 576x252 with 2 Axes>"
            ]
          },
          "metadata": {
            "tags": [],
            "needs_background": "light"
          }
        }
      ]
    }
  ]
}